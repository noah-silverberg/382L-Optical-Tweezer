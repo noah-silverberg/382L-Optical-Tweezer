{
 "cells": [
  {
   "cell_type": "markdown",
   "metadata": {},
   "source": [
    "# Importing Data"
   ]
  },
  {
   "cell_type": "code",
   "execution_count": 26,
   "metadata": {},
   "outputs": [
    {
     "data": {
      "text/html": [
       "<div>\n",
       "<style scoped>\n",
       "    .dataframe tbody tr th:only-of-type {\n",
       "        vertical-align: middle;\n",
       "    }\n",
       "\n",
       "    .dataframe tbody tr th {\n",
       "        vertical-align: top;\n",
       "    }\n",
       "\n",
       "    .dataframe thead th {\n",
       "        text-align: right;\n",
       "    }\n",
       "</style>\n",
       "<table border=\"1\" class=\"dataframe\">\n",
       "  <thead>\n",
       "    <tr style=\"text-align: right;\">\n",
       "      <th></th>\n",
       "      <th>TIME</th>\n",
       "      <th>CH1</th>\n",
       "    </tr>\n",
       "  </thead>\n",
       "  <tbody>\n",
       "    <tr>\n",
       "      <th>0</th>\n",
       "      <td>-32.00000</td>\n",
       "      <td>-16.0</td>\n",
       "    </tr>\n",
       "    <tr>\n",
       "      <th>1</th>\n",
       "      <td>-31.99997</td>\n",
       "      <td>-16.2</td>\n",
       "    </tr>\n",
       "    <tr>\n",
       "      <th>2</th>\n",
       "      <td>-31.99994</td>\n",
       "      <td>-16.3</td>\n",
       "    </tr>\n",
       "    <tr>\n",
       "      <th>3</th>\n",
       "      <td>-31.99990</td>\n",
       "      <td>-16.5</td>\n",
       "    </tr>\n",
       "    <tr>\n",
       "      <th>4</th>\n",
       "      <td>-31.99987</td>\n",
       "      <td>-16.7</td>\n",
       "    </tr>\n",
       "    <tr>\n",
       "      <th>...</th>\n",
       "      <td>...</td>\n",
       "      <td>...</td>\n",
       "    </tr>\n",
       "    <tr>\n",
       "      <th>1999995</th>\n",
       "      <td>31.99984</td>\n",
       "      <td>-15.6</td>\n",
       "    </tr>\n",
       "    <tr>\n",
       "      <th>1999996</th>\n",
       "      <td>31.99987</td>\n",
       "      <td>-15.7</td>\n",
       "    </tr>\n",
       "    <tr>\n",
       "      <th>1999997</th>\n",
       "      <td>31.99990</td>\n",
       "      <td>-15.6</td>\n",
       "    </tr>\n",
       "    <tr>\n",
       "      <th>1999998</th>\n",
       "      <td>31.99994</td>\n",
       "      <td>-15.6</td>\n",
       "    </tr>\n",
       "    <tr>\n",
       "      <th>1999999</th>\n",
       "      <td>31.99997</td>\n",
       "      <td>-15.5</td>\n",
       "    </tr>\n",
       "  </tbody>\n",
       "</table>\n",
       "<p>2000000 rows × 2 columns</p>\n",
       "</div>"
      ],
      "text/plain": [
       "             TIME   CH1\n",
       "0       -32.00000 -16.0\n",
       "1       -31.99997 -16.2\n",
       "2       -31.99994 -16.3\n",
       "3       -31.99990 -16.5\n",
       "4       -31.99987 -16.7\n",
       "...           ...   ...\n",
       "1999995  31.99984 -15.6\n",
       "1999996  31.99987 -15.7\n",
       "1999997  31.99990 -15.6\n",
       "1999998  31.99994 -15.6\n",
       "1999999  31.99997 -15.5\n",
       "\n",
       "[2000000 rows x 2 columns]"
      ]
     },
     "metadata": {},
     "output_type": "display_data"
    }
   ],
   "source": [
    "import pandas as pd\n",
    "\n",
    "data = pd.read_csv('Data/Trapped Particle 01 - 2M pts.CSV', skiprows=15)\n",
    "display(data)"
   ]
  },
  {
   "cell_type": "markdown",
   "metadata": {},
   "source": [
    "# Calculating FFT and PSD"
   ]
  },
  {
   "cell_type": "code",
   "execution_count": 27,
   "metadata": {},
   "outputs": [],
   "source": [
    "import numpy as np\n",
    "\n",
    "voltages = data['CH1']\n",
    "voltages = voltages - np.mean(voltages)\n",
    "dt = data['TIME'].iloc[1] - data['TIME'].iloc[0]\n",
    "total_timesteps = len(voltages)\n",
    "\n",
    "# Compute RFFT, PSD and frequency bins, sort the results by PSD\n",
    "fhat = np.fft.rfft(voltages, total_timesteps)\n",
    "psd = fhat * np.conj(fhat) / (total_timesteps * dt)\n",
    "# Adjust the PSD for the symmetry of the RFFT\n",
    "psd *= 2\n",
    "\n",
    "# Frequency bins for the RFFT\n",
    "freqs = np.fft.rfftfreq(total_timesteps, d=dt)\n",
    "\n",
    "# Verify that PSD is real\n",
    "assert np.allclose(psd, psd.real)\n",
    "psd = psd.real"
   ]
  },
  {
   "cell_type": "code",
   "execution_count": 28,
   "metadata": {},
   "outputs": [
    {
     "data": {
      "text/html": [
       "<div>\n",
       "<style scoped>\n",
       "    .dataframe tbody tr th:only-of-type {\n",
       "        vertical-align: middle;\n",
       "    }\n",
       "\n",
       "    .dataframe tbody tr th {\n",
       "        vertical-align: top;\n",
       "    }\n",
       "\n",
       "    .dataframe thead th {\n",
       "        text-align: right;\n",
       "    }\n",
       "</style>\n",
       "<table border=\"1\" class=\"dataframe\">\n",
       "  <thead>\n",
       "    <tr style=\"text-align: right;\">\n",
       "      <th></th>\n",
       "      <th>Frequency</th>\n",
       "      <th>PSD</th>\n",
       "    </tr>\n",
       "  </thead>\n",
       "  <tbody>\n",
       "    <tr>\n",
       "      <th>0</th>\n",
       "      <td>0.000000</td>\n",
       "      <td>1.437588e-18</td>\n",
       "    </tr>\n",
       "    <tr>\n",
       "      <th>1</th>\n",
       "      <td>0.016667</td>\n",
       "      <td>5.258157e+07</td>\n",
       "    </tr>\n",
       "    <tr>\n",
       "      <th>2</th>\n",
       "      <td>0.033333</td>\n",
       "      <td>2.938632e+08</td>\n",
       "    </tr>\n",
       "    <tr>\n",
       "      <th>3</th>\n",
       "      <td>0.050000</td>\n",
       "      <td>2.864153e+08</td>\n",
       "    </tr>\n",
       "    <tr>\n",
       "      <th>4</th>\n",
       "      <td>0.066667</td>\n",
       "      <td>3.607439e+08</td>\n",
       "    </tr>\n",
       "    <tr>\n",
       "      <th>...</th>\n",
       "      <td>...</td>\n",
       "      <td>...</td>\n",
       "    </tr>\n",
       "    <tr>\n",
       "      <th>999996</th>\n",
       "      <td>16666.600001</td>\n",
       "      <td>7.486404e+00</td>\n",
       "    </tr>\n",
       "    <tr>\n",
       "      <th>999997</th>\n",
       "      <td>16666.616667</td>\n",
       "      <td>1.882634e+01</td>\n",
       "    </tr>\n",
       "    <tr>\n",
       "      <th>999998</th>\n",
       "      <td>16666.633334</td>\n",
       "      <td>1.400093e+01</td>\n",
       "    </tr>\n",
       "    <tr>\n",
       "      <th>999999</th>\n",
       "      <td>16666.650001</td>\n",
       "      <td>1.052210e+02</td>\n",
       "    </tr>\n",
       "    <tr>\n",
       "      <th>1000000</th>\n",
       "      <td>16666.666667</td>\n",
       "      <td>5.633333e-02</td>\n",
       "    </tr>\n",
       "  </tbody>\n",
       "</table>\n",
       "<p>1000001 rows × 2 columns</p>\n",
       "</div>"
      ],
      "text/plain": [
       "            Frequency           PSD\n",
       "0            0.000000  1.437588e-18\n",
       "1            0.016667  5.258157e+07\n",
       "2            0.033333  2.938632e+08\n",
       "3            0.050000  2.864153e+08\n",
       "4            0.066667  3.607439e+08\n",
       "...               ...           ...\n",
       "999996   16666.600001  7.486404e+00\n",
       "999997   16666.616667  1.882634e+01\n",
       "999998   16666.633334  1.400093e+01\n",
       "999999   16666.650001  1.052210e+02\n",
       "1000000  16666.666667  5.633333e-02\n",
       "\n",
       "[1000001 rows x 2 columns]"
      ]
     },
     "metadata": {},
     "output_type": "display_data"
    }
   ],
   "source": [
    "psds = pd.DataFrame({'Frequency': freqs, 'PSD': psd.real})\n",
    "display(psds)"
   ]
  },
  {
   "cell_type": "code",
   "execution_count": 29,
   "metadata": {},
   "outputs": [
    {
     "data": {
      "text/plain": [
       "Text(0.5, 0, 'Frequency (Hz)')"
      ]
     },
     "execution_count": 29,
     "metadata": {},
     "output_type": "execute_result"
    },
    {
     "data": {
      "image/png": "[encoded data removed]",
      "text/plain": [
       "<Figure size 640x480 with 1 Axes>"
      ]
     },
     "metadata": {},
     "output_type": "display_data"
    }
   ],
   "source": [
    "import matplotlib.pyplot as plt\n",
    "\n",
    "# We only graph PSD for frequencies up to 1 kHz (higher frequencies are noise)\n",
    "mask = psds['Frequency'] > 0\n",
    "mask &= psds['Frequency'] < 50\n",
    "plt.plot(psds['Frequency'][mask], psds['PSD'][mask])\n",
    "plt.xlabel('Frequency (Hz)')"
   ]
  },
  {
   "cell_type": "code",
   "execution_count": null,
   "metadata": {},
   "outputs": [],
   "source": []
  }
 ],
 "metadata": {
  "kernelspec": {
   "display_name": "numpy",
   "language": "python",
   "name": "python3"
  },
  "language_info": {
   "codemirror_mode": {
    "name": "ipython",
    "version": 3
   },
   "file_extension": ".py",
   "mimetype": "text/x-python",
   "name": "python",
   "nbconvert_exporter": "python",
   "pygments_lexer": "ipython3",
   "version": "3.10.14"
  }
 },
 "nbformat": 4,
 "nbformat_minor": 2
}
