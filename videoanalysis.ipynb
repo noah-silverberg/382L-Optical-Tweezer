{
 "cells": [
  {
   "cell_type": "markdown",
   "metadata": {},
   "source": [
    "# Import video"
   ]
  },
  {
   "cell_type": "markdown",
   "metadata": {},
   "source": [
    "Run `pip install opencv-python`"
   ]
  },
  {
   "cell_type": "code",
   "execution_count": 21,
   "metadata": {},
   "outputs": [
    {
     "name": "stdout",
     "output_type": "stream",
     "text": [
      "[[[0 1 0]\n",
      "  [0 1 0]\n",
      "  [0 1 0]\n",
      "  ...\n",
      "  [0 1 0]\n",
      "  [0 1 0]\n",
      "  [0 1 0]]\n",
      "\n",
      " [[0 1 0]\n",
      "  [0 1 0]\n",
      "  [0 1 0]\n",
      "  ...\n",
      "  [0 1 0]\n",
      "  [0 1 0]\n",
      "  [0 1 0]]\n",
      "\n",
      " [[0 1 0]\n",
      "  [0 1 0]\n",
      "  [0 1 0]\n",
      "  ...\n",
      "  [0 1 0]\n",
      "  [0 1 0]\n",
      "  [0 1 0]]\n",
      "\n",
      " ...\n",
      "\n",
      " [[0 1 0]\n",
      "  [0 1 0]\n",
      "  [0 1 0]\n",
      "  ...\n",
      "  [0 1 0]\n",
      "  [0 1 0]\n",
      "  [0 1 0]]\n",
      "\n",
      " [[0 1 0]\n",
      "  [0 1 0]\n",
      "  [0 1 0]\n",
      "  ...\n",
      "  [0 1 0]\n",
      "  [0 1 0]\n",
      "  [0 1 0]]\n",
      "\n",
      " [[0 1 0]\n",
      "  [0 1 0]\n",
      "  [0 1 0]\n",
      "  ...\n",
      "  [0 1 0]\n",
      "  [0 1 0]\n",
      "  [0 1 0]]]\n",
      "(1922, 2560, 3)\n"
     ]
    },
    {
     "data": {
      "text/plain": [
       "'Video Framerate: 1.4211195077910788 FPS'"
      ]
     },
     "metadata": {},
     "output_type": "display_data"
    },
    {
     "data": {
      "text/plain": [
       "'Delay: 0.703670588235294 seconds'"
      ]
     },
     "metadata": {},
     "output_type": "display_data"
    },
    {
     "name": "stdout",
     "output_type": "stream",
     "text": [
      "Video playback finished.\n",
      "Total frames: 1\n"
     ]
    }
   ],
   "source": [
    "\n",
    "# Open the video file\n",
    "video_path = \"Videos/trappedparticle04.mp4\"  # Replace with your video file path\n",
    "\n",
    "import cv2\n",
    "from IPython.display import display, clear_output\n",
    "import time\n",
    "from PIL import Image\n",
    "\n",
    "# Open the video file\n",
    "cap = cv2.VideoCapture(video_path)\n",
    "\n",
    "# Get the video framerate\n",
    "fps = cap.get(cv2.CAP_PROP_FPS)\n",
    "frame_delay = 1 / fps  # Delay between frames in seconds\n",
    "\n",
    "framecount = 0\n",
    "while cap.isOpened():\n",
    "    # print(framecount)\n",
    "    framecount += 1\n",
    "    ret, frame = cap.read()\n",
    "    if not ret:\n",
    "        break\n",
    "    \n",
    "    # Convert BGR to RGB for displaying in Jupyter\n",
    "    frame_rgb = cv2.cvtColor(frame, cv2.COLOR_BGR2RGB)\n",
    "    print(frame_rgb)\n",
    "    print(frame_rgb.shape)\n",
    "    break\n",
    "    img = Image.fromarray(frame_rgb)\n",
    "    \n",
    "    # Display the frame\n",
    "    display(img)\n",
    "    \n",
    "    # Pause for the actual frame delay\n",
    "    time.sleep(frame_delay)\n",
    "    clear_output(wait=True)\n",
    "\n",
    "cap.release()\n",
    "display(f\"Video Framerate: {fps} FPS\")\n",
    "display(f\"Delay: {frame_delay} seconds\")\n",
    "print(\"Video playback finished.\")\n",
    "print(f\"Total frames: {framecount}\")\n"
   ]
  },
  {
   "cell_type": "code",
   "execution_count": null,
   "metadata": {},
   "outputs": [],
   "source": []
  }
 ],
 "metadata": {
  "kernelspec": {
   "display_name": "numpy",
   "language": "python",
   "name": "python3"
  },
  "language_info": {
   "codemirror_mode": {
    "name": "ipython",
    "version": 3
   },
   "file_extension": ".py",
   "mimetype": "text/x-python",
   "name": "python",
   "nbconvert_exporter": "python",
   "pygments_lexer": "ipython3",
   "version": "3.10.14"
  }
 },
 "nbformat": 4,
 "nbformat_minor": 2
}
