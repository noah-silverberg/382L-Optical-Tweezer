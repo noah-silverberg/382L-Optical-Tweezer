{
 "cells": [
  {
   "cell_type": "markdown",
   "metadata": {},
   "source": [
    "# Importing Data"
   ]
  },
  {
   "cell_type": "markdown",
   "metadata": {},
   "source": []
  },
  {
   "cell_type": "code",
   "execution_count": 9,
   "metadata": {},
   "outputs": [
    {
     "data": {
      "text/html": [
       "<div>\n",
       "<style scoped>\n",
       "    .dataframe tbody tr th:only-of-type {\n",
       "        vertical-align: middle;\n",
       "    }\n",
       "\n",
       "    .dataframe tbody tr th {\n",
       "        vertical-align: top;\n",
       "    }\n",
       "\n",
       "    .dataframe thead th {\n",
       "        text-align: right;\n",
       "    }\n",
       "</style>\n",
       "<table border=\"1\" class=\"dataframe\">\n",
       "  <thead>\n",
       "    <tr style=\"text-align: right;\">\n",
       "      <th></th>\n",
       "      <th>TIME</th>\n",
       "      <th>CH1</th>\n",
       "    </tr>\n",
       "  </thead>\n",
       "  <tbody>\n",
       "    <tr>\n",
       "      <th>0</th>\n",
       "      <td>-32.00000</td>\n",
       "      <td>-16.0</td>\n",
       "    </tr>\n",
       "    <tr>\n",
       "      <th>1</th>\n",
       "      <td>-31.99997</td>\n",
       "      <td>-16.2</td>\n",
       "    </tr>\n",
       "    <tr>\n",
       "      <th>2</th>\n",
       "      <td>-31.99994</td>\n",
       "      <td>-16.3</td>\n",
       "    </tr>\n",
       "    <tr>\n",
       "      <th>3</th>\n",
       "      <td>-31.99990</td>\n",
       "      <td>-16.5</td>\n",
       "    </tr>\n",
       "    <tr>\n",
       "      <th>4</th>\n",
       "      <td>-31.99987</td>\n",
       "      <td>-16.7</td>\n",
       "    </tr>\n",
       "    <tr>\n",
       "      <th>...</th>\n",
       "      <td>...</td>\n",
       "      <td>...</td>\n",
       "    </tr>\n",
       "    <tr>\n",
       "      <th>1999995</th>\n",
       "      <td>31.99984</td>\n",
       "      <td>-15.6</td>\n",
       "    </tr>\n",
       "    <tr>\n",
       "      <th>1999996</th>\n",
       "      <td>31.99987</td>\n",
       "      <td>-15.7</td>\n",
       "    </tr>\n",
       "    <tr>\n",
       "      <th>1999997</th>\n",
       "      <td>31.99990</td>\n",
       "      <td>-15.6</td>\n",
       "    </tr>\n",
       "    <tr>\n",
       "      <th>1999998</th>\n",
       "      <td>31.99994</td>\n",
       "      <td>-15.6</td>\n",
       "    </tr>\n",
       "    <tr>\n",
       "      <th>1999999</th>\n",
       "      <td>31.99997</td>\n",
       "      <td>-15.5</td>\n",
       "    </tr>\n",
       "  </tbody>\n",
       "</table>\n",
       "<p>2000000 rows × 2 columns</p>\n",
       "</div>"
      ],
      "text/plain": [
       "             TIME   CH1\n",
       "0       -32.00000 -16.0\n",
       "1       -31.99997 -16.2\n",
       "2       -31.99994 -16.3\n",
       "3       -31.99990 -16.5\n",
       "4       -31.99987 -16.7\n",
       "...           ...   ...\n",
       "1999995  31.99984 -15.6\n",
       "1999996  31.99987 -15.7\n",
       "1999997  31.99990 -15.6\n",
       "1999998  31.99994 -15.6\n",
       "1999999  31.99997 -15.5\n",
       "\n",
       "[2000000 rows x 2 columns]"
      ]
     },
     "metadata": {},
     "output_type": "display_data"
    },
    {
     "data": {
      "image/png": "[encoded data removed]",
      "text/plain": [
       "<Figure size 640x480 with 1 Axes>"
      ]
     },
     "metadata": {},
     "output_type": "display_data"
    }
   ],
   "source": [
    "import pandas as pd\n",
    "import matplotlib.pyplot as plt\n",
    "import scipy.signal as signal\n",
    "import numpy as np\n",
    "\n",
    "data = pd.read_csv('Data/Trapped Particle 01 - 2M pts.CSV', skiprows=15)\n",
    "display(data)\n",
    "\n",
    "plt.plot(data['TIME'], data['CH1'], 'o', markersize=1)\n",
    "plt.show()"
   ]
  },
  {
   "cell_type": "markdown",
   "metadata": {},
   "source": [
    "# Calculating FFT and PSD"
   ]
  },
  {
   "cell_type": "code",
   "execution_count": 10,
   "metadata": {},
   "outputs": [
    {
     "data": {
      "text/html": [
       "<div>\n",
       "<style scoped>\n",
       "    .dataframe tbody tr th:only-of-type {\n",
       "        vertical-align: middle;\n",
       "    }\n",
       "\n",
       "    .dataframe tbody tr th {\n",
       "        vertical-align: top;\n",
       "    }\n",
       "\n",
       "    .dataframe thead th {\n",
       "        text-align: right;\n",
       "    }\n",
       "</style>\n",
       "<table border=\"1\" class=\"dataframe\">\n",
       "  <thead>\n",
       "    <tr style=\"text-align: right;\">\n",
       "      <th></th>\n",
       "      <th>Frequency</th>\n",
       "      <th>PSD</th>\n",
       "    </tr>\n",
       "  </thead>\n",
       "  <tbody>\n",
       "    <tr>\n",
       "      <th>0</th>\n",
       "      <td>0.000000</td>\n",
       "      <td>3.015870e-02</td>\n",
       "    </tr>\n",
       "    <tr>\n",
       "      <th>1</th>\n",
       "      <td>1.017253</td>\n",
       "      <td>1.446469e-01</td>\n",
       "    </tr>\n",
       "    <tr>\n",
       "      <th>2</th>\n",
       "      <td>2.034505</td>\n",
       "      <td>1.297805e-01</td>\n",
       "    </tr>\n",
       "    <tr>\n",
       "      <th>3</th>\n",
       "      <td>3.051758</td>\n",
       "      <td>1.249655e-01</td>\n",
       "    </tr>\n",
       "    <tr>\n",
       "      <th>4</th>\n",
       "      <td>4.069010</td>\n",
       "      <td>1.159173e-01</td>\n",
       "    </tr>\n",
       "    <tr>\n",
       "      <th>...</th>\n",
       "      <td>...</td>\n",
       "      <td>...</td>\n",
       "    </tr>\n",
       "    <tr>\n",
       "      <th>16380</th>\n",
       "      <td>16662.597657</td>\n",
       "      <td>1.048527e-07</td>\n",
       "    </tr>\n",
       "    <tr>\n",
       "      <th>16381</th>\n",
       "      <td>16663.614909</td>\n",
       "      <td>1.375570e-07</td>\n",
       "    </tr>\n",
       "    <tr>\n",
       "      <th>16382</th>\n",
       "      <td>16664.632162</td>\n",
       "      <td>1.188030e-07</td>\n",
       "    </tr>\n",
       "    <tr>\n",
       "      <th>16383</th>\n",
       "      <td>16665.649415</td>\n",
       "      <td>1.156731e-07</td>\n",
       "    </tr>\n",
       "    <tr>\n",
       "      <th>16384</th>\n",
       "      <td>16666.666667</td>\n",
       "      <td>6.643579e-08</td>\n",
       "    </tr>\n",
       "  </tbody>\n",
       "</table>\n",
       "<p>16385 rows × 2 columns</p>\n",
       "</div>"
      ],
      "text/plain": [
       "          Frequency           PSD\n",
       "0          0.000000  3.015870e-02\n",
       "1          1.017253  1.446469e-01\n",
       "2          2.034505  1.297805e-01\n",
       "3          3.051758  1.249655e-01\n",
       "4          4.069010  1.159173e-01\n",
       "...             ...           ...\n",
       "16380  16662.597657  1.048527e-07\n",
       "16381  16663.614909  1.375570e-07\n",
       "16382  16664.632162  1.188030e-07\n",
       "16383  16665.649415  1.156731e-07\n",
       "16384  16666.666667  6.643579e-08\n",
       "\n",
       "[16385 rows x 2 columns]"
      ]
     },
     "metadata": {},
     "output_type": "display_data"
    }
   ],
   "source": [
    "voltages = data['CH1'] # Extract the signal\n",
    "voltages = voltages - voltages.mean() # De-mean the signal\n",
    "\n",
    "dt = data['TIME'].iloc[1] - data['TIME'].iloc[0] # Get the time step between points\n",
    "total_timesteps = len(voltages) # Get the total number of time steps\n",
    "\n",
    "# Compute PSD using scipy.signal.welch for better performance\n",
    "welch = signal.welch(voltages, fs=1/dt, nperseg=2**15, scaling='density')\n",
    "freqs = welch[0]\n",
    "psd = welch[1]\n",
    "\n",
    "psds = pd.DataFrame({'Frequency': freqs, 'PSD': psd})\n",
    "display(psds)"
   ]
  },
  {
   "cell_type": "code",
   "execution_count": 11,
   "metadata": {},
   "outputs": [
    {
     "data": {
      "image/png": "[encoded data removed]",
      "text/plain": [
       "<Figure size 640x480 with 1 Axes>"
      ]
     },
     "metadata": {},
     "output_type": "display_data"
    }
   ],
   "source": [
    "# We only graph low frequencies, since higher ones are noise\n",
    "mask = psds['Frequency'] > 0 # Ignore the zero frequency\n",
    "mask &= psds['Frequency'] < 1000\n",
    "# plt.plot(psds['Frequency'][mask], psds['PSD'][mask])\n",
    "# We use a scatter plot with a connecting line\n",
    "plt.plot(psds['Frequency'][mask], psds['PSD'][mask] , 'o-', markersize=5)\n",
    "plt.xlabel('Frequency (Hz)')\n",
    "plt.ylabel('PSD')\n",
    "plt.xscale('log')\n",
    "plt.yscale('log')"
   ]
  },
  {
   "cell_type": "code",
   "execution_count": 12,
   "metadata": {},
   "outputs": [],
   "source": [
    "import math\n",
    "boltzmann = 1.38 * 10**(-23)\n",
    "beta_val = 6 * math.pi * 23 * 10**(-6) * 1.0016 * 10**(-3)\n",
    "temp = 300\n",
    "rho_vals = np.sqrt(psd * freqs**2 * math.pi**2 * beta_val/(boltzmann * temp))"
   ]
  },
  {
   "cell_type": "code",
   "execution_count": 13,
   "metadata": {},
   "outputs": [
    {
     "name": "stdout",
     "output_type": "stream",
     "text": [
      "137895646.98368067\n"
     ]
    }
   ],
   "source": [
    "rho_avg = np.mean(rho_vals)\n",
    "print(rho_avg)"
   ]
  },
  {
   "cell_type": "code",
   "execution_count": null,
   "metadata": {},
   "outputs": [],
   "source": []
  }
 ],
 "metadata": {
  "kernelspec": {
   "display_name": "PSDComps",
   "language": "python",
   "name": "python3"
  },
  "language_info": {
   "codemirror_mode": {
    "name": "ipython",
    "version": 3
   },
   "file_extension": ".py",
   "mimetype": "text/x-python",
   "name": "python",
   "nbconvert_exporter": "python",
   "pygments_lexer": "ipython3",
   "version": "3.10.8"
  }
 },
 "nbformat": 4,
 "nbformat_minor": 2
}
